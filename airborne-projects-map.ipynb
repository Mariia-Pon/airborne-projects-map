{
 "cells": [
  {
   "cell_type": "markdown",
   "id": "3284cbe3",
   "metadata": {},
   "source": [
    "# Проект IV"
   ]
  },
  {
   "cell_type": "markdown",
   "id": "d405b0ba",
   "metadata": {},
   "source": [
    "# Создание интерактивной карты"
   ]
  },
  {
   "cell_type": "markdown",
   "id": "858c8edf",
   "metadata": {},
   "source": [
    "## 1. Тема карты"
   ]
  },
  {
   "cell_type": "markdown",
   "id": "3d542bb3",
   "metadata": {},
   "source": [
    "##  🛫 <span style=\"color: lightblue\">Отображение выполненных работ по аэрофотосъемке с помощью Folium</span>  🛬"
   ]
  },
  {
   "cell_type": "markdown",
   "id": "0ccf8608",
   "metadata": {},
   "source": [
    "Цель: \n",
    "\n",
    "Создание интерактивной карты, отображающую географию и некоторую статистику проведенных работ по аэрофотосъемке и воздушному лазерному сканированию за временной срез 2016-2024 годы.\n",
    "\n",
    "Исходя из требований, создам:\n",
    "\n",
    "1. 4 разных тематических слоя и 2 картографических подложки\n",
    "- Cartodbpositron\n",
    "- OSM\n",
    "- слой Субъекты РФ\n",
    "- слой Работали здесь\n",
    "- слой Места съемок\n",
    "- слой Количество проектов\n",
    "\n",
    "2. разных способа изображения данных:\n",
    "- картограмма (choropleth)\n",
    "- катодиаграмма (маркеры с кругами)\n",
    "- кластеризация маркеров\n",
    "- маркеры\n",
    "\n",
    "3. другие обязательные элементы:\n",
    "- [x] Layer Control (управление слоями)\n",
    "  \n",
    "4. Дополнительные интерактивные инструменты:**</span> \n",
    "- Mouse Position\n",
    "- Mini Map\n",
    "- Marker cluster"
   ]
  },
  {
   "cell_type": "markdown",
   "id": "565dfff3",
   "metadata": {},
   "source": [
    "## 2. Изучение данных"
   ]
  },
  {
   "cell_type": "markdown",
   "id": "a4b282d8",
   "metadata": {},
   "source": [
    "### 2.1 Импорт библиотек"
   ]
  },
  {
   "cell_type": "code",
   "execution_count": null,
   "id": "2365e7f8",
   "metadata": {},
   "outputs": [],
   "source": [
    "import folium\n",
    "import pandas as pd\n",
    "import geopandas as gpd\n",
    "import osmnx as ox\n",
    "import gzip as gz\n",
    "import json as js\n",
    "\n",
    "\n",
    "import branca.colormap as cm\n",
    "\n",
    "from branca.element import Html, MacroElement\n",
    "from folium.plugins import MousePosition\n",
    "from folium.plugins import MarkerCluster\n",
    "from folium.plugins import MiniMap\n",
    "from folium import IFrame"
   ]
  },
  {
   "cell_type": "markdown",
   "id": "d7d8d57f",
   "metadata": {},
   "source": [
    "### 2.2 Загрузка данных о проектах"
   ]
  },
  {
   "cell_type": "code",
   "execution_count": null,
   "id": "6b0c7bff",
   "metadata": {},
   "outputs": [],
   "source": [
    "# Загрузим данные о выполненных проектах\n",
    "df = gpd.read_file('2016-2024_laser_cover.shp')\n",
    "\n",
    "# Определяем СК\n",
    "df_crs = df.crs\n",
    "\n",
    "# Проверяем СК\n",
    "print(\"Cистема координат слоя\", df_crs)"
   ]
  },
  {
   "cell_type": "code",
   "execution_count": null,
   "id": "621a49a8",
   "metadata": {},
   "outputs": [],
   "source": [
    "# Посмотрим на таблицу\n",
    "df.head(3)"
   ]
  },
  {
   "cell_type": "markdown",
   "id": "b07570f4",
   "metadata": {},
   "source": [
    "Расшифрую наполнение таблицы:\n",
    "\n",
    "| Столбцы | значения | \n",
    "|----------|----------|\n",
    "| OBJECTID    | Числовой идентификатор объекта   |\n",
    "| project_id    | Внутренне название *проекта* |\n",
    "| area    | Площадь в км<sup>2</sup>   |\n",
    "| year    | Год съемки   |\n",
    "| SK    | Итоговая система координат  |\n",
    "| model    | Наличие 3д модели (есть/нет)   |\n",
    "| object_id    | Внутренне название *объекта съемки*   |\n",
    "| Shape_Leng    | Не обращаем внимания   |\n",
    "| Shape_Area    | Не обращаем внимания   |\n",
    "| geometry    | Координаты в градусах   |"
   ]
  },
  {
   "cell_type": "markdown",
   "id": "344d2037",
   "metadata": {},
   "source": [
    "Для дальнейшей работы мне понадобятся центроиды, по-этому нужно спроецировать градусы в метры. Сложность в том, что данные покрывают всютерриторию России. Остановимся на Web Mercator, для наших целей точности достаточно."
   ]
  },
  {
   "cell_type": "code",
   "execution_count": null,
   "id": "fc2160ea",
   "metadata": {},
   "outputs": [],
   "source": [
    "# Перепроецируем в спроецированную систему координат, выберем Web Mercator\n",
    "df_webmer = df.to_crs(epsg=3857)\n",
    "\n",
    "# Создаем GeoDataFrame с центроидами\n",
    "centroids = df_webmer.copy()\n",
    "centroids['geometry'] = centroids.geometry.centroid  # заменяем геометрию на центроиды\n",
    "\n",
    "# Отображаем полигоны и центроиды на одной карте\n",
    "m = df_webmer.explore(color='red', name='Полигоны съемки')  # полигоны\n",
    "centroids.explore(m=m, \n",
    "                  color='blue', \n",
    "                  marker_kwds={'radius': 2}, \n",
    "                  name='Центроиды'\n",
    "                  )  # точки\n",
    "\n",
    "# Покажем слои\n",
    "folium.LayerControl().add_to(m)\n",
    "m\n"
   ]
  },
  {
   "cell_type": "code",
   "execution_count": null,
   "id": "e42f4d38",
   "metadata": {},
   "outputs": [],
   "source": [
    "centroids.head(3)"
   ]
  },
  {
   "cell_type": "code",
   "execution_count": null,
   "id": "1f39a355",
   "metadata": {},
   "outputs": [],
   "source": [
    "# Переведем в систему координат обратно WGS84\n",
    "centroids_wgs84 = centroids.to_crs(epsg=4326)"
   ]
  },
  {
   "cell_type": "markdown",
   "id": "7793fe23",
   "metadata": {},
   "source": [
    "### 2.3 Загрузка данных о субъектах РФ"
   ]
  },
  {
   "cell_type": "markdown",
   "id": "653727da",
   "metadata": {},
   "source": [
    "Так как изначально файл превышает 25 МБ, он был заархивирован и, затем, преобразован в GeoDataFrame"
   ]
  },
  {
   "cell_type": "code",
   "execution_count": null,
   "id": "23164478",
   "metadata": {},
   "outputs": [],
   "source": [
    "# Путь к сжатому файлу\n",
    "input_path = \"russia_region.geojson.gz\"\n",
    "\n",
    "# Чтение и преобразование в GeoDataFrame\n",
    "with gz.open(input_path, \"rt\", encoding=\"utf-8\") as f: # \"rt\" - режим чтения текста (r = read, t = text)\n",
    "    geojson_data = js.load(f)\n",
    "\n",
    "# Преобразуем в GeoDataFrame\n",
    "admin = gpd.GeoDataFrame.from_features(geojson_data[\"features\"])\n",
    "\n",
    "# Указываем систему координат, если она известна (например, WGS84)\n",
    "admin.set_crs(\"EPSG:4326\", inplace=True)  # ← Замените, если ваша СК другая\n",
    "\n",
    "# Проверки\n",
    "print(\"Система координат слоя:\", admin.crs)\n",
    "print(\"Тип данных слоя:\", admin.geom_type.unique())\n",
    "\n"
   ]
  },
  {
   "cell_type": "code",
   "execution_count": null,
   "id": "4837af80",
   "metadata": {},
   "outputs": [],
   "source": [
    "# Отобразим данные на карте\n",
    "\n",
    "# Создадим базовую карту\n",
    "m = folium.Map(tiles='CartoDB positron')\n",
    "\n",
    "# Добавим слой на карту\n",
    "\n",
    "admin.explore(m=m, color='lightblue', opacity=0.8, name='субъекты РФ')  # полигоны\n",
    "df.explore(m=m, color='red', name='данные съемки')\n",
    "centroids_wgs84.explore(m=m, color='blue', marker_kwds={'radius': 2}, name='Центроиды')  # точки\n",
    "\n",
    "# Добавляем контроль слоев для возможности включения/выключения\n",
    "folium.LayerControl().add_to(m)\n",
    "\n",
    "# Автоматически подстраиваем масштаб под все объекты\n",
    "m.fit_bounds(m.get_bounds())\n",
    "\n",
    "# Отображаем карту\n",
    "m"
   ]
  },
  {
   "cell_type": "markdown",
   "id": "19ebf726",
   "metadata": {},
   "source": [
    "## 3. Визуализация данных"
   ]
  },
  {
   "cell_type": "markdown",
   "id": "c83181cc",
   "metadata": {},
   "source": [
    "Мы создадим хороплетную карту, где будет показано сколько проектов снято в регионе РФ.\n",
    "Для этого нам понадобится сделать пространственный join центроидов и регионов."
   ]
  },
  {
   "cell_type": "code",
   "execution_count": null,
   "id": "6ed326e7",
   "metadata": {},
   "outputs": [],
   "source": [
    "# Делаем пространственный join: для каждой точки подбираем тот регион , в который она попадает\n",
    "#    predicate='within' означает, что точка должна лежать внутри полигона округа\n",
    "join_map = gpd.sjoin(centroids_wgs84, admin, how='left', predicate='within')\n",
    "\n",
    "# Переименовываем столбцы, чтобы с ними было удобнее работать \n",
    "join_map = join_map.rename(columns={\n",
    "    'name': 'region_name',        # новое имя для столбца \"название округа\"\n",
    "})\n",
    "\n",
    "join_map.head(5)"
   ]
  },
  {
   "cell_type": "code",
   "execution_count": null,
   "id": "3ae8d24b",
   "metadata": {},
   "outputs": [],
   "source": [
    "join_map.columns"
   ]
  },
  {
   "cell_type": "code",
   "execution_count": null,
   "id": "36c610ee",
   "metadata": {},
   "outputs": [],
   "source": [
    "project_counts = join_map.groupby('region_name').agg(\n",
    "    project_count=('region_name', 'size'),\n",
    "    total_area=('area', 'sum')  # округляем до двух знаков после запятой\n",
    ").reset_index()\n",
    "project_counts['total_area'] = project_counts['total_area'].round(0).astype(int)  # округляем до целого числа\n",
    "project_counts\n"
   ]
  },
  {
   "cell_type": "code",
   "execution_count": null,
   "id": "4e5db435",
   "metadata": {},
   "outputs": [],
   "source": [
    "# # Группировка по region_name и подсчет количества проектов\n",
    "# project_counts = join_map.groupby('region_name').size().reset_index(name='project_count')\n",
    "# project_counts"
   ]
  },
  {
   "cell_type": "markdown",
   "id": "bed2a179",
   "metadata": {},
   "source": [
    "Так как при пространственном объединении (sjoin), геометрия берется от левой таблицы (centroids_wgs84), то есть — точки и join_map содержит геометрию точек, а не полигонов, нужно снова присоединить информацию о полигонах (регионов) к аггрегированной таблице project_counts чтобы построить хороплетную карту."
   ]
  },
  {
   "cell_type": "code",
   "execution_count": null,
   "id": "b8e4b5c5",
   "metadata": {},
   "outputs": [],
   "source": [
    "# Проверяем тип данных\n",
    "print(\"Тип данных слоя\", join_map.geom_type.unique())"
   ]
  },
  {
   "cell_type": "code",
   "execution_count": null,
   "id": "d12f736b",
   "metadata": {},
   "outputs": [],
   "source": [
    "# Присоединяем геометрию регионов обратно (из admin)\n",
    "choropleth_data = admin.merge(project_counts, left_on='name', right_on='region_name', how='left')\n",
    "# Проверяем тип данных\n",
    "print(\"Тип данных слоя\", choropleth_data.geom_type.unique())"
   ]
  },
  {
   "cell_type": "code",
   "execution_count": null,
   "id": "08ac9ecf",
   "metadata": {},
   "outputs": [],
   "source": [
    "# Если у каких-то регионов нет точек в project_count будет NaN.\n",
    "# Заменим нулями и переведем в целочисленный тип\n",
    "choropleth_data['project_count'] = choropleth_data['project_count'].fillna(0).astype(int)\n",
    "choropleth_data['project_count'].isna().sum()"
   ]
  },
  {
   "cell_type": "code",
   "execution_count": null,
   "id": "9d693b67",
   "metadata": {},
   "outputs": [],
   "source": [
    "# Удалим лишние столбцы\n",
    "choropleth_data = choropleth_data.drop(columns=['NUMPOINTS', 'region_name'])\n",
    "# Заменим NaN значения в столбце total_area на 0\n",
    "choropleth_data['total_area'] = choropleth_data['total_area'].fillna(0).astype(int)"
   ]
  },
  {
   "cell_type": "code",
   "execution_count": null,
   "id": "f95af254",
   "metadata": {},
   "outputs": [],
   "source": [
    "choropleth_data.head()"
   ]
  },
  {
   "cell_type": "markdown",
   "id": "177449d4",
   "metadata": {},
   "source": [
    "Отметим, что для визуализации будем использовать name, потому что там полные данные"
   ]
  },
  {
   "cell_type": "markdown",
   "id": "9218d5f9",
   "metadata": {},
   "source": [
    "### 3.1 Создаем хороплетную карту"
   ]
  },
  {
   "cell_type": "code",
   "execution_count": null,
   "id": "f0555e5f",
   "metadata": {},
   "outputs": [],
   "source": [
    "# Создаем карту с пустым фоном\n",
    "m = folium.Map(location=[68.13, 98.43], \n",
    "               zoom_start=2.5, \n",
    "               tiles=None )\n",
    "\n",
    "# Добавляем подложки как отключаемые слои\n",
    "folium.TileLayer(\n",
    "    tiles='cartodbpositron',\n",
    "    name='Cartodbpositron',\n",
    "    control=True\n",
    ").add_to(m)\n",
    "\n",
    "folium.TileLayer(\n",
    "    tiles='OpenStreetMap',\n",
    "    name='OpenStreetMap',\n",
    "    control=True\n",
    ").add_to(m)\n",
    "\n",
    "# Добавляем слой с субъектами\n",
    "folium.GeoJson(\n",
    "    choropleth_data,\n",
    "    name='Субьекты РФ',\n",
    "    style_function=lambda feature: {\n",
    "        'fillColor': '#4CAFE5',\n",
    "        'color': '#FAFAFA',\n",
    "        'weight': 1.5,\n",
    "        'fillOpacity': 0.4\n",
    "    },\n",
    "    tooltip=folium.GeoJsonTooltip(\n",
    "        fields=['name'],\n",
    "        aliases=[''],\n",
    "        localize=True,\n",
    "        sticky=True,\n",
    "        style=\"padding-left: 4px; text-align: left;\"\n",
    "    )\n",
    ").add_to(m)\n",
    "\n",
    "# Добавляем слой: работали здесь (только > 0)\n",
    "folium.GeoJson(\n",
    "    choropleth_data[choropleth_data['project_count'] > 0],\n",
    "    name='Работали здесь',\n",
    "    style_function=lambda feature: {\n",
    "        'fillColor': '#013A63',\n",
    "        'color': '#FAFAFA',\n",
    "        'weight': 1.5,\n",
    "        'fillOpacity': 0.7\n",
    "    }\n",
    ").add_to(m)\n",
    "\n"
   ]
  },
  {
   "cell_type": "code",
   "execution_count": null,
   "id": "92e9f6f0",
   "metadata": {},
   "outputs": [],
   "source": [
    "# Создаем FeatureGroup для слоя с маркерами (изначально выключен)\n",
    "marker_layer = folium.FeatureGroup(name='Места съемок', show=False)\n",
    "\n",
    "# Кластер для маркеров\n",
    "marker_cluster = MarkerCluster().add_to(marker_layer)\n",
    "\n",
    "# Добавляем точки в кластер\n",
    "for idx, row in centroids_wgs84.iterrows():\n",
    "    location = [row.geometry.y, row.geometry.x]\n",
    "    popup_text = f\"Год съемки: {row['year']}\"\n",
    "    \n",
    "    folium.Marker(\n",
    "        location=location,\n",
    "        popup=popup_text,\n",
    "        icon=folium.Icon(color='blue', icon='plane', prefix='fa')\n",
    "    ).add_to(marker_cluster)\n",
    "\n",
    "# Добавляем слой с маркерами на карту\n",
    "marker_layer.add_to(m)\n",
    "\n",
    "\n"
   ]
  },
  {
   "cell_type": "code",
   "execution_count": null,
   "id": "9ef82f4d",
   "metadata": {},
   "outputs": [],
   "source": [
    "# Считаем центроиды (НЕ сохраняем в geometry!)\n",
    "centroids = choropleth_data.geometry.centroid\n",
    "choropleth_data['lon'] = centroids.x\n",
    "choropleth_data['lat'] = centroids.y\n",
    "\n",
    "# Создаем пустой FeatureGroup для кругов (по умолчанию скрыт)\n",
    "circle_layer = folium.FeatureGroup(name='Количество проектов')\n",
    "\n",
    "# Добавляем круги\n",
    "for _, row in choropleth_data.iterrows():\n",
    "    if row['project_count'] > 0:\n",
    "        html = f\"\"\"\n",
    "        <div style=\"text-align: left; font-weight: normal; font-size: 12px;\">\n",
    "            <strong>{row['name']}</strong><br>\n",
    "            Проектов: {row['project_count']}<br>\n",
    "            Площадь съемки: {row['total_area']} км²\n",
    "        </div>\n",
    "        \"\"\"\n",
    "        iframe = IFrame(html=html, width=200, height=70)\n",
    "        popup = folium.Popup(iframe, max_width=200)\n",
    "\n",
    "        folium.CircleMarker(\n",
    "            location=[row['lat'], row['lon']],\n",
    "            radius=row['project_count'] ** 0.5 * 2,\n",
    "            color='#01497C',\n",
    "            weight=1,\n",
    "            fill=True,\n",
    "            fill_color=\"#CD8F0B\",\n",
    "            fill_opacity=0.8,\n",
    "            popup=popup\n",
    "        ).add_to(circle_layer)\n",
    "\n",
    "circle_layer.add_to(m)\n",
    "\n",
    "# Добавляем мини-карту\n",
    "MiniMap().add_to(m)\n",
    "\n",
    "# Добавляем координаты и котроль слоев\n",
    "MousePosition().add_to(m)\n",
    "\n",
    "folium.LayerControl(collapsed=False).add_to(m)\n",
    "\n"
   ]
  },
  {
   "cell_type": "code",
   "execution_count": null,
   "id": "66b38662",
   "metadata": {},
   "outputs": [],
   "source": [
    "# Добавим заголовок к карте\n",
    "title_html = '''\n",
    "     <h3 align=\"center\" style=\"font-size:17px\">\n",
    "     <b>Выполненные работы по аэрофотосъемке и воздушному лазерному сканированию в субъектах РФ</b></h3>\n",
    "     '''\n",
    "m.get_root().html.add_child(folium.Element(title_html))"
   ]
  },
  {
   "cell_type": "code",
   "execution_count": null,
   "id": "f9be7522",
   "metadata": {},
   "outputs": [],
   "source": [
    "m"
   ]
  },
  {
   "cell_type": "code",
   "execution_count": null,
   "id": "c8b3cd95",
   "metadata": {},
   "outputs": [],
   "source": [
    "m.save(\"index.html\")"
   ]
  }
 ],
 "metadata": {
  "kernelspec": {
   "display_name": "myenv",
   "language": "python",
   "name": "python3"
  },
  "language_info": {
   "codemirror_mode": {
    "name": "ipython",
    "version": 3
   },
   "file_extension": ".py",
   "mimetype": "text/x-python",
   "name": "python",
   "nbconvert_exporter": "python",
   "pygments_lexer": "ipython3",
   "version": "3.12.7"
  }
 },
 "nbformat": 4,
 "nbformat_minor": 5
}
